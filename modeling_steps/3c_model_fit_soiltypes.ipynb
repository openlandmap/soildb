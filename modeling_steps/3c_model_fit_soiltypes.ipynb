{
 "cells": [
  {
   "cell_type": "code",
   "execution_count": 1,
   "id": "1985372a-8dd8-4325-9595-9d3c452d9b6a",
   "metadata": {
    "tags": []
   },
   "outputs": [
    {
     "data": {
      "text/html": [
       "<style type='text/css'>\n",
       ".datatable table.frame { margin-bottom: 0; }\n",
       ".datatable table.frame thead { border-bottom: none; }\n",
       ".datatable table.frame tr.coltypes td {  color: #FFFFFF;  line-height: 6px;  padding: 0 0.5em;}\n",
       ".datatable .bool    { background: #DDDD99; }\n",
       ".datatable .object  { background: #565656; }\n",
       ".datatable .int     { background: #5D9E5D; }\n",
       ".datatable .float   { background: #4040CC; }\n",
       ".datatable .str     { background: #CC4040; }\n",
       ".datatable .row_index {  background: var(--jp-border-color3);  border-right: 1px solid var(--jp-border-color0);  color: var(--jp-ui-font-color3);  font-size: 9px;}\n",
       ".datatable .frame tr.coltypes .row_index {  background: var(--jp-border-color0);}\n",
       ".datatable th:nth-child(2) { padding-left: 12px; }\n",
       ".datatable .hellipsis {  color: var(--jp-cell-editor-border-color);}\n",
       ".datatable .vellipsis {  background: var(--jp-layout-color0);  color: var(--jp-cell-editor-border-color);}\n",
       ".datatable .na {  color: var(--jp-cell-editor-border-color);  font-size: 80%;}\n",
       ".datatable .footer { font-size: 9px; }\n",
       ".datatable .frame_dimensions {  background: var(--jp-border-color3);  border-top: 1px solid var(--jp-border-color0);  color: var(--jp-ui-font-color3);  display: inline-block;  opacity: 0.6;  padding: 1px 10px 1px 5px;}\n",
       "</style>\n"
      ],
      "text/plain": [
       "<IPython.core.display.HTML object>"
      ]
     },
     "metadata": {},
     "output_type": "display_data"
    }
   ],
   "source": [
    "import numpy as np\n",
    "import pandas as pd\n",
    "import optuna\n",
    "import random\n",
    "import os\n",
    "from joblib import dump, load\n",
    "os.environ['USE_PYGEOS'] = '0'\n",
    "os.environ['PROJ_LIB'] = '/opt/conda/share/proj'\n",
    "import geopandas as gpd\n",
    "from tqdm.notebook import tqdm\n",
    "import lightgbm as lgb\n",
    "from sklearn.preprocessing import LabelEncoder\n",
    "from sklearn.metrics import classification_report, confusion_matrix, ConfusionMatrixDisplay"
   ]
  },
  {
   "cell_type": "code",
   "execution_count": 2,
   "id": "edc52837-b3cf-42d8-9f98-399b9c69acb0",
   "metadata": {
    "tags": []
   },
   "outputs": [
    {
     "name": "stdout",
     "output_type": "stream",
     "text": [
      "Number of points raw: 337751\n"
     ]
    }
   ],
   "source": [
    "df_raw_path = 'overlayed_year_soil.type_v20250403_clean.pq'\n",
    "df_raw = pd.read_parquet(df_raw_path)\n",
    "print(f'Number of points raw: {df_raw.shape[0]}')"
   ]
  },
  {
   "cell_type": "code",
   "execution_count": 3,
   "id": "517535d2-fcb2-434d-aed1-bbb2b3f19761",
   "metadata": {
    "tags": []
   },
   "outputs": [],
   "source": [
    "#df_raw.to_csv('global.csv',index=False)"
   ]
  },
  {
   "cell_type": "code",
   "execution_count": 51,
   "id": "0e161d0f-90ce-4b12-944c-f7e0283bbbd1",
   "metadata": {
    "tags": []
   },
   "outputs": [
    {
     "data": {
      "text/plain": [
       "['site_key',\n",
       " 'olc_id',\n",
       " 'year',\n",
       " 'source_db',\n",
       " 'longitude_decimal_degrees',\n",
       " 'latitude_decimal_degrees',\n",
       " 'taxsubgrp',\n",
       " 'CHELSA_bio1_1981-2010_V.2.1',\n",
       " 'CHELSA_pet_penman_max_1981-2010_V.2.1',\n",
       " 'CHELSA_bio13_1981-2010_V.2.1',\n",
       " 'CHELSA_kg2_1981-2010_V.2.1',\n",
       " 'CHELSA_npp_1981-2010_V.2.1',\n",
       " 'CHELSA_gddlgd10_1981-2010_V.2.1',\n",
       " 'snow.prob_esacci.apr_p90_500m_s_20000101_20121231_go_epsg.4326_v2.0',\n",
       " 'thermal_glad_swa.ard2_p25_30m_s_20000101_20221231_go_epsg.4326_v1',\n",
       " 'pft.trees.be_esa.cci.lc_pc_300m_s_19920101_19921231_go_epsg.4326_v20230616',\n",
       " 'biomes_biome6k.grassland_pscaled_1km_a_19790101_20131231_go_epsg.4326_v20241210',\n",
       " 'CHELSA_tcc_mean_1981-2010_V.2.1',\n",
       " 'twi_edtm_m_120m_s_20000101_20221231_go_epsg.4326_v20241230',\n",
       " 'snow.prob_esacci.oct_p90_500m_s_20000101_20121231_go_epsg.4326_v2.0',\n",
       " 'CHELSA_gddlgd5_1981-2010_V.2.1',\n",
       " 'dtm_landform_usgs.ecotapestry.low.hills_p_250m_s0..0cm_2014_v1.0',\n",
       " 'CHELSA_gsp_1981-2010_V.2.1',\n",
       " 'dtm_landform_usgs.ecotapestry.flat.plains_p_250m_s0..0cm_2014_v1.0',\n",
       " 'CHELSA_gdgfgd10_1981-2010_V.2.1',\n",
       " 'CHELSA_bio6_1981-2010_V.2.1',\n",
       " 'tan.curv_edtm_m_120m_s_20000101_20221231_go_epsg.4326_v20241230',\n",
       " 'salinity.grade_ivushkin.et.al_sd_250m_19920101_20161231_go_epsg4326_v20241216.tif',\n",
       " 'CHELSA_ngd10_1981-2010_V.2.1',\n",
       " 'oswf_gwp_n_250m_s_20030101_20031231_go_epsg.4326_v1',\n",
       " 'tree.cover_glad.umd_m_30m_s_20100101_20151231_go_epsg.4326_v1.0',\n",
       " 'CHELSA_kg0_1981-2010_V.2.1',\n",
       " 'ph.h2o_iso.10390.2021.index_m_30m_b60cm..100cm_20000101_20051231_g_epsg.4326_v20250204',\n",
       " 'CHELSA_gsl_gf_1981-2010_V.2.1',\n",
       " 'dfme_edtm_m_120m_s_20000101_20221231_go_epsg.4326_v20241230',\n",
       " 'CHELSA_pr_01_1981-2010_V.2.1',\n",
       " 'ndti_glad_swa.ard2_median_30m_s_20000101_20221231_go_epsg.4326_v1',\n",
       " 'snow.prob_esacci.jul_p90_500m_s_20000101_20121231_go_epsg.4326_v2.0',\n",
       " 'twi_edtm_m_240m_s_20000101_20221231_go_epsg.4326_v20241230',\n",
       " 'CHELSA_cmi_mean_1981-2010_V.2.1',\n",
       " 'green_glad_swa.ard2_p25_30m_s_20000101_20221231_go_epsg.4326_v1',\n",
       " 'CHELSA_vpd_mean_1981-2010_V.2.1',\n",
       " 'shpindx_edtm_m_60m_s_20000101_20221231_go_epsg.4326_v20241230',\n",
       " 'dtm_landform_usgs.ecotapestry.low.mountains_p_250m_s0..0cm_2014_v1.0',\n",
       " 'aeolian_gum.v1_p_1km_b_20000101_20181231_go_epsg4326_v20241020',\n",
       " 'snow.prob_esacci.feb_p90_500m_s_20000101_20121231_go_epsg.4326_v2.0',\n",
       " 'CHELSA_cmi_range_1981-2010_V.2.1',\n",
       " 'pos.openness_edtm_m_240m_s_20000101_20221231_go_epsg.4326_v20241230',\n",
       " 'geomorphon_edtm_m_240m_s_20000101_20221231_go_epsg.4326_v20241230',\n",
       " 'CHELSA_gdd10_1981-2010_V.2.1',\n",
       " 'CHELSA_scd_1981-2010_V.2.1',\n",
       " 'CHELSA_pet_penman_min_1981-2010_V.2.1',\n",
       " 'blue_glad_swa.ard2_p25_30m_s_20000101_20221231_go_epsg.4326_v1',\n",
       " 'CHELSA_kg3_1981-2010_V.2.1',\n",
       " 'CHELSA_fgd_1981-2010_V.2.1',\n",
       " 'pft.shrubs.nd_esa.cci.lc_pc_300m_s_19920101_19921231_go_epsg.4326_v20230616',\n",
       " 'bare.soil_mcd43a4.fc_std_500m_s_20000101_20001231_go_epsg.4326_v20240616',\n",
       " 'CHELSA_gst_1981-2010_V.2.1',\n",
       " 'lacustrine.dep_gum.v1_p_1km_b_20000101_20181231_go_epsg4326_v20241020',\n",
       " 'forest.cover_esa.cci_p_250m_s_20000101_20001231_go_epsg4326_v20241017',\n",
       " 'CHELSA_bio7_1981-2010_V.2.1',\n",
       " 'legendtm_rf_30m_m_s_20000101_20231231_go_epsg.4326_v20250130',\n",
       " 'CHELSA_gdd5_1981-2010_V.2.1',\n",
       " 'snow.prob_esacci.dec_p90_500m_s_20000101_20121231_go_epsg.4326_v2.0',\n",
       " 'ndsi_glad_swa.ard2_median_30m_s_20000101_20221231_go_epsg.4326_v1',\n",
       " 'spec.catch_edtm_m_240m_s_20000101_20221231_go_epsg.4326_v20241230',\n",
       " 'coastal_gum.v1_p_1km_b_20000101_20181231_go_epsg4326_v20241020',\n",
       " 'biomes_biome6k.forest_pscaled_1km_a_19790101_20131231_go_epsg.4326_v20241210',\n",
       " 'CHELSA_bio18_1981-2010_V.2.1',\n",
       " 'ssdon_edtm_m_240m_s_20000101_20221231_go_epsg.4326_v20241230',\n",
       " 'CHELSA_bio8_1981-2010_V.2.1',\n",
       " 'dtm_landform_usgs.ecotapestry.breaks.foothills_p_250m_s0..0cm_2014_v1.0',\n",
       " 'CHELSA_pr_11_1981-2010_V.2.1',\n",
       " 'oc_iso.10694.1995.wpct_m_30m_b30cm..60cm_20000101_20051231_g_epsg.4326_v20250204',\n",
       " 'nir_glad_swa.ard2_p50_30m_s_20000101_20221231_go_epsg.4326_v1',\n",
       " 'pft.shrubs.be_esa.cci.lc_pc_300m_s_19920101_19921231_go_epsg.4326_v20230616',\n",
       " 'CHELSA_pr_07_1981-2010_V.2.1',\n",
       " 'thermal_glad_swa.ard2_p50_30m_s_20000101_20221231_go_epsg.4326_v1',\n",
       " 'CHELSA_bio15_1981-2010_V.2.1',\n",
       " 'pft.water_esa.cci.lc_pc_300m_s_19920101_19921231_go_epsg.4326_v20230616',\n",
       " 'photosynthetic.veg_mcd43a4.fc_mx_500m_s_20010101_20011231_go_epsg.4326_v20240616',\n",
       " 'CHELSA_bio2_1981-2010_V.2.1',\n",
       " 'CHELSA_kg4_1981-2010_V.2.1',\n",
       " 'CHELSA_bio17_1981-2010_V.2.1',\n",
       " 'CHELSA_ngd5_gf_1981-2010_V.2.1',\n",
       " 'pft.bare_esa.cci.lc_pc_300m_s_19920101_19921231_go_epsg.4326_v20230616',\n",
       " 'ls.factor_edtm_m_240m_s_20000101_20221231_go_epsg.4326_v20241230',\n",
       " 'CHELSA_bio16_1981-2010_V.2.1',\n",
       " 'CHELSA_cmi_min_1981-2010_V.2.1',\n",
       " 'neg.openness_edtm_m_240m_s_20000101_20221231_go_epsg.4326_v20241230',\n",
       " 'CHELSA_ngd5_1981-2010_V.2.1',\n",
       " 'swir1_glad_swa.ard2_p25_30m_s_20000101_20221231_go_epsg.4326_v1',\n",
       " 'CHELSA_tcc_range_1981-2010_V.2.1',\n",
       " 'biomes_biome6k.shrubland_pscaled_1km_a_19790101_20131231_go_epsg.4326_v20241210',\n",
       " 'snow.prob_esacci.mar_p90_500m_s_20000101_20121231_go_epsg.4326_v2.0',\n",
       " 'CHELSA_swb_1981-2010_V.2.1',\n",
       " 'swir2_glad_swa.ard2_p50_30m_s_20000101_20221231_go_epsg.4326_v1',\n",
       " 'CHELSA_gdgfgd5_1981-2010_V.2.1',\n",
       " 'marine.dep_gum.v1_p_1km_b_20000101_20181231_go_epsg4326_v20241020',\n",
       " 'pos.openness_edtm_m_60m_s_20000101_20221231_go_epsg.4326_v20241230',\n",
       " 'minic_edtm_m_240m_s_20000101_20221231_go_epsg.4326_v20241230',\n",
       " 'CHELSA_hurs_range_1981-2010_V.2.1',\n",
       " 'CHELSA_cmi_max_1981-2010_V.2.1',\n",
       " 'CHELSA_tcc_max_1981-2010_V.2.1',\n",
       " 'photosynthetic.veg_mcd43a4.fc_m_500m_s_20010101_20011231_go_epsg.4326_v20240616',\n",
       " 'pft.built_esa.cci.lc_pc_300m_s_19920101_19921231_go_epsg.4326_v20230616',\n",
       " 'ssdon_edtm_m_120m_s_20000101_20221231_go_epsg.4326_v20241230',\n",
       " 'swir1_glad_swa.ard2_p50_30m_s_20000101_20221231_go_epsg.4326_v1',\n",
       " 'CHELSA_pr_06_1981-2010_V.2.1',\n",
       " 'hyd_log1p.upstream.area_merit.hydro_m_250m_b0..0cm_2017_v1.0',\n",
       " 'snow.prob_esacci.jan_p90_500m_s_20000101_20121231_go_epsg.4326_v2.0',\n",
       " 'pft.snowice_esa.cci.lc_pc_300m_s_19920101_19921231_go_epsg.4326_v20230616',\n",
       " 'CHELSA_sfcWind_mean_1981-2010_V.2.1',\n",
       " 'geomorphon_edtm_m_60m_s_20000101_20221231_go_epsg.4326_v20241230',\n",
       " 'neg.openness_edtm_m_60m_s_20000101_20221231_go_epsg.4326_v20241230',\n",
       " 'non.photosynthetic.veg_mcd43a4.fc_m_500m_s_20010101_20011231_go_epsg.4326_v20240616',\n",
       " 'organic_gum.v1_p_1km_b_20000101_20181231_go_epsg4326_v20241020',\n",
       " 'ndvi_glad_swa.ard2_median_30m_s_20000101_20221231_go_epsg.4326_v1',\n",
       " 'pft.trees.bd_esa.cci.lc_pc_300m_s_19920101_19921231_go_epsg.4326_v20230616',\n",
       " 'ring.curv_edtm_m_60m_s_20000101_20221231_go_epsg.4326_v20241230',\n",
       " 'karst.extent_bgr.whymap_p_1km_b_20000101_20221231_go_epsg4326_v20241019',\n",
       " 'CHELSA_sfcWind_range_1981-2010_V.2.1',\n",
       " 'nir_glad_swa.ard2_p25_30m_s_20000101_20221231_go_epsg.4326_v1',\n",
       " 'CHELSA_bio14_1981-2010_V.2.1',\n",
       " 'CHELSA_pet_penman_range_1981-2010_V.2.1',\n",
       " 'red_glad_swa.ard2_p25_30m_s_20000101_20221231_go_epsg.4326_v1',\n",
       " 'pft.shrubs.bd_esa.cci.lc_pc_300m_s_19920101_19921231_go_epsg.4326_v20230616',\n",
       " 'dtm_landform_usgs.ecotapestry.hills_p_250m_s0..0cm_2014_v1.0',\n",
       " 'snow.prob_esacci.nov_p90_500m_s_20000101_20121231_go_epsg.4326_v2.0',\n",
       " 'CHELSA_pr_04_1981-2010_V.2.1',\n",
       " 'hillshade_edtm_m_240m_s_20000101_20221231_go_epsg.4326_v20241230',\n",
       " 'maxic_edtm_m_240m_s_20000101_20221231_go_epsg.4326_v20241230',\n",
       " 'dfme_edtm_m_60m_s_20000101_20221231_go_epsg.4326_v20241230',\n",
       " 'minic_edtm_m_60m_s_20000101_20221231_go_epsg.4326_v20241230',\n",
       " 'pft.grass.man_esa.cci.lc_pc_300m_s_19920101_19921231_go_epsg.4326_v20230616',\n",
       " 'tan.curv_edtm_m_240m_s_20000101_20221231_go_epsg.4326_v20241230',\n",
       " 'pft.grass.nat_esa.cci.lc_pc_300m_s_19920101_19921231_go_epsg.4326_v20230616',\n",
       " 'bare.rock_glc.gfz_p_1km_s_2015_2018_go_epsg4326_v20241017',\n",
       " 'pro.curv_edtm_m_60m_s_20000101_20221231_go_epsg.4326_v20241230',\n",
       " 'non.photosynthetic.veg_mcd43a4.fc_mx_500m_s_20010101_20011231_go_epsg.4326_v20240616',\n",
       " 'CHELSA_kg1_1981-2010_V.2.1',\n",
       " 'CHELSA_vpd_range_1981-2010_V.2.1',\n",
       " 'oc_iso.10694.1995.wpct_m_30m_b0cm..30cm_20000101_20051231_g_epsg.4326_v20250204',\n",
       " 'CHELSA_sfcWind_min_1981-2010_V.2.1',\n",
       " 'green_glad_swa.ard2_p50_30m_s_20000101_20221231_go_epsg.4326_v1',\n",
       " 'CHELSA_pr_02_1981-2010_V.2.1',\n",
       " 'ph.h2o_iso.10390.2021.index_m_30m_b0cm..30cm_20000101_20051231_g_epsg.4326_v20250204',\n",
       " 'savi_glad_swa.ard2_median_30m_s_20000101_20221231_go_epsg.4326_v1',\n",
       " 'CHELSA_vpd_max_1981-2010_V.2.1',\n",
       " 'swir2_glad_swa.ard2_p25_30m_s_20000101_20221231_go_epsg.4326_v1',\n",
       " 'ls.factor_edtm_m_60m_s_20000101_20221231_go_epsg.4326_v20241230',\n",
       " 'CHELSA_vpd_min_1981-2010_V.2.1',\n",
       " 'evaporites_gum.v1_p_1km_b_20000101_20181231_go_epsg4326_v20241020',\n",
       " 'CHELSA_hurs_mean_1981-2010_V.2.1',\n",
       " 'non.photosynthetic.veg_mcd43a4.fc_std_gf_500m_s_20010101_20011231_go_epsg.4326_v20250116',\n",
       " 'CHELSA_gdd0_1981-2010_V.2.1',\n",
       " 'CHELSA_hurs_min_1981-2010_V.2.1',\n",
       " 'ndwi_glad_swa.ard2_median_30m_s_20000101_20221231_go_epsg.4326_v1',\n",
       " 'CHELSA_bio9_1981-2010_V.2.1',\n",
       " 'maxic_edtm_m_60m_s_20000101_20221231_go_epsg.4326_v20241230',\n",
       " 'CHELSA_kg5_1981-2010_V.2.1',\n",
       " 'CHELSA_sfcWind_max_1981-2010_V.2.1',\n",
       " 'dfme_edtm_m_240m_s_20000101_20221231_go_epsg.4326_v20241230',\n",
       " 'ring.curv_edtm_m_240m_s_20000101_20221231_go_epsg.4326_v20241230',\n",
       " 'CHELSA_pet_penman_mean_1981-2010_V.2.1',\n",
       " 'sediments.und_gum.v1_p_1km_b_20000101_20181231_go_epsg4326_v20241020',\n",
       " 'shpindx_edtm_m_240m_s_20000101_20221231_go_epsg.4326_v20241230',\n",
       " 'dtm_landform_usgs.ecotapestry.smooth.plains_p_250m_s0..0cm_2014_v1.0',\n",
       " 'CHELSA_bio3_1981-2010_V.2.1',\n",
       " 'pyroclastics_gum.v1_p_1km_b_20000101_20181231_go_epsg4326_v20241020',\n",
       " 'photosynthetic.veg_mcd43a4.fc_std_500m_s_20010101_20011231_go_epsg.4326_v20240616',\n",
       " 'red_glad_swa.ard2_p50_30m_s_20000101_20221231_go_epsg.4326_v1',\n",
       " 'pft.trees.ne_esa.cci.lc_pc_300m_s_19920101_19921231_go_epsg.4326_v20230616',\n",
       " 'CHELSA_gddlgd0_1981-2010_V.2.1',\n",
       " 'CHELSA_bio11_1981-2010_V.2.1',\n",
       " 'peatland.extent_wri.gfw.peatgrids_p_1km_s_2000_2020_go_epsg4326_v20241017',\n",
       " 'snow.prob_esacci.sep_p90_500m_s_20000101_20121231_go_epsg.4326_v2.0',\n",
       " 'CHELSA_pr_08_1981-2010_V.2.1',\n",
       " 'CHELSA_pr_10_1981-2010_V.2.1',\n",
       " 'CHELSA_pr_12_1981-2010_V.2.1',\n",
       " 'bare.soil_mcd43a4.fc_m_500m_s_20000101_20001231_go_epsg.4326_v20240616',\n",
       " 'dtm_landform_usgs.ecotapestry.high.mountains.deep.canyons_p_250m_s0..0cm_2014_v1.0',\n",
       " 'pft.trees.nd_esa.cci.lc_pc_300m_s_19920101_19921231_go_epsg.4326_v20230616',\n",
       " 'bare.soil_mcd43a4.fc_mx_500m_s_20000101_20001231_go_epsg.4326_v20240616',\n",
       " 'colluvial_gum.v1_p_1km_b_20000101_20181231_go_epsg4326_v20241020',\n",
       " 'CHELSA_ngd0_1981-2010_V.2.1',\n",
       " 'CHELSA_pr_09_1981-2010_V.2.1',\n",
       " 'oc_iso.10694.1995.wpct_m_30m_b60cm..100cm_20000101_20051231_g_epsg.4326_v20250204',\n",
       " 'CHELSA_bio4_1981-2010_V.2.1',\n",
       " 'blue_glad_swa.ard2_p50_30m_s_20000101_20221231_go_epsg.4326_v1',\n",
       " 'CHELSA_bio12_1981-2010_V.2.1',\n",
       " 'pft.shrubs.ne_esa.cci.lc_pc_300m_s_19920101_19921231_go_epsg.4326_v20230616',\n",
       " 'CHELSA_fcf_1981-2010_V.2.1',\n",
       " 'glacial_gum.v1_p_1km_b_20000101_20181231_go_epsg4326_v20241020',\n",
       " 'CHELSA_bio19_1981-2010_V.2.1',\n",
       " 'CHELSA_pr_05_1981-2010_V.2.1',\n",
       " 'slope.in.degree_edtm_m_240m_s_20000101_20221231_go_epsg.4326_v20241230',\n",
       " 'CHELSA_bio10_1981-2010_V.2.1',\n",
       " 'CHELSA_ai_1981-2010_V.2.1',\n",
       " 'tan.curv_edtm_m_60m_s_20000101_20221231_go_epsg.4326_v20241230',\n",
       " 'twi_edtm_m_60m_s_20000101_20221231_go_epsg.4326_v20241230',\n",
       " 'ph.h2o_iso.10390.2021.index_m_30m_b30cm..60cm_20000101_20051231_g_epsg.4326_v20250204',\n",
       " 'snow.prob_esacci.may_p90_500m_s_20000101_20121231_go_epsg.4326_v2.0',\n",
       " 'snow.prob_esacci.aug_p90_500m_s_20000101_20121231_go_epsg.4326_v2.0',\n",
       " 'CHELSA_gdgfgd0_1981-2010_V.2.1',\n",
       " 'pro.curv_edtm_m_240m_s_20000101_20221231_go_epsg.4326_v20241230',\n",
       " 'CHELSA_pr_03_1981-2010_V.2.1',\n",
       " 'snow.prob_esacci.jun_p90_500m_s_20000101_20121231_go_epsg.4326_v2.0',\n",
       " 'alluvial_gum.v1_p_1km_b_20000101_20181231_go_epsg4326_v20241020',\n",
       " 'CHELSA_tcc_min_1981-2010_V.2.1',\n",
       " 'CHELSA_bio5_1981-2010_V.2.1',\n",
       " 'pft.water.inland_esa.cci.lc_pc_300m_s_19920101_19921231_go_epsg.4326_v20230616',\n",
       " 'wetlands.cover_esa.cci_p_250m_s_20000101_20001231_go_epsg4326_v20241017',\n",
       " 'lon',\n",
       " 'lat']"
      ]
     },
     "execution_count": 51,
     "metadata": {},
     "output_type": "execute_result"
    }
   ],
   "source": [
    "df_raw.columns.tolist()"
   ]
  },
  {
   "cell_type": "markdown",
   "id": "d52d4d9e-fde5-48e7-9a71-e53ec63099f8",
   "metadata": {
    "tags": []
   },
   "source": [
    "# Preprocess"
   ]
  },
  {
   "cell_type": "code",
   "execution_count": 5,
   "id": "6dd9f2cd-2076-49b4-adf0-26318c2ec51d",
   "metadata": {
    "tags": []
   },
   "outputs": [
    {
     "data": {
      "text/plain": [
       "(337751, 210)"
      ]
     },
     "execution_count": 5,
     "metadata": {},
     "output_type": "execute_result"
    }
   ],
   "source": [
    "df = df_raw.drop(columns=['site_key', \n",
    "                          'year', \n",
    "                          'source_db', \n",
    "                          'longitude_decimal_degrees', \n",
    "                          'latitude_decimal_degrees']).copy() # \n",
    "df.shape"
   ]
  },
  {
   "cell_type": "code",
   "execution_count": 6,
   "id": "dd394fe5-967d-48c5-8ed7-2dce8d78c57f",
   "metadata": {
    "tags": []
   },
   "outputs": [
    {
     "data": {
      "text/plain": [
       "(321295, 210)"
      ]
     },
     "execution_count": 6,
     "metadata": {},
     "output_type": "execute_result"
    }
   ],
   "source": [
    "# Removing bad features (>20% of missing values)\n",
    "select_columns = (df.isna().sum() / len(df)) <= 0.1\n",
    "df_all = df.loc[:,select_columns]\n",
    "df_all = df_all.dropna()\n",
    "df_all.shape"
   ]
  },
  {
   "cell_type": "code",
   "execution_count": 7,
   "id": "853d09cd-100e-4ca9-ad79-a6d2ee67efc4",
   "metadata": {
    "tags": []
   },
   "outputs": [],
   "source": [
    "# Spatial blocking rule\n",
    "df_all['blocking'] = df_all['olc_id'].str.split('+').apply(lambda x: x[0])"
   ]
  },
  {
   "cell_type": "code",
   "execution_count": 8,
   "id": "7e84fc51-a931-4c37-a4e2-a83e9ae46860",
   "metadata": {
    "tags": []
   },
   "outputs": [],
   "source": [
    "# Initialize LabelEncoder\n",
    "label_encoder = LabelEncoder()\n",
    "\n",
    "# Step 1: Fit LabelEncoder on Training Data\n",
    "y_encoded = label_encoder.fit_transform(df_all['taxsubgrp'])\n",
    "\n",
    "# Save the mapping\n",
    "mapping_df = pd.DataFrame({\n",
    "    'Label': label_encoder.classes_,\n",
    "    'Code': range(len(label_encoder.classes_))\n",
    "})"
   ]
  },
  {
   "cell_type": "code",
   "execution_count": 9,
   "id": "104cb7d4-d148-4ab0-9535-9fb0de033baf",
   "metadata": {
    "tags": []
   },
   "outputs": [
    {
     "data": {
      "text/html": [
       "<div>\n",
       "<style scoped>\n",
       "    .dataframe tbody tr th:only-of-type {\n",
       "        vertical-align: middle;\n",
       "    }\n",
       "\n",
       "    .dataframe tbody tr th {\n",
       "        vertical-align: top;\n",
       "    }\n",
       "\n",
       "    .dataframe thead th {\n",
       "        text-align: right;\n",
       "    }\n",
       "</style>\n",
       "<table border=\"1\" class=\"dataframe\">\n",
       "  <thead>\n",
       "    <tr style=\"text-align: right;\">\n",
       "      <th></th>\n",
       "      <th>Label</th>\n",
       "      <th>Code</th>\n",
       "    </tr>\n",
       "  </thead>\n",
       "  <tbody>\n",
       "    <tr>\n",
       "      <th>0</th>\n",
       "      <td>abruptic durixeralfs</td>\n",
       "      <td>0</td>\n",
       "    </tr>\n",
       "    <tr>\n",
       "      <th>1</th>\n",
       "      <td>abruptic xeric argidurids</td>\n",
       "      <td>1</td>\n",
       "    </tr>\n",
       "    <tr>\n",
       "      <th>2</th>\n",
       "      <td>aeric alaquods</td>\n",
       "      <td>2</td>\n",
       "    </tr>\n",
       "    <tr>\n",
       "      <th>3</th>\n",
       "      <td>aeric albaqualfs</td>\n",
       "      <td>3</td>\n",
       "    </tr>\n",
       "    <tr>\n",
       "      <th>4</th>\n",
       "      <td>aeric calciaquolls</td>\n",
       "      <td>4</td>\n",
       "    </tr>\n",
       "    <tr>\n",
       "      <th>...</th>\n",
       "      <td>...</td>\n",
       "      <td>...</td>\n",
       "    </tr>\n",
       "    <tr>\n",
       "      <th>813</th>\n",
       "      <td>xeric palehumults</td>\n",
       "      <td>813</td>\n",
       "    </tr>\n",
       "    <tr>\n",
       "      <th>814</th>\n",
       "      <td>xeric torrifluvents</td>\n",
       "      <td>814</td>\n",
       "    </tr>\n",
       "    <tr>\n",
       "      <th>815</th>\n",
       "      <td>xeric torriorthents</td>\n",
       "      <td>815</td>\n",
       "    </tr>\n",
       "    <tr>\n",
       "      <th>816</th>\n",
       "      <td>xeric torripsamments</td>\n",
       "      <td>816</td>\n",
       "    </tr>\n",
       "    <tr>\n",
       "      <th>817</th>\n",
       "      <td>xeric vitricryands</td>\n",
       "      <td>817</td>\n",
       "    </tr>\n",
       "  </tbody>\n",
       "</table>\n",
       "<p>818 rows × 2 columns</p>\n",
       "</div>"
      ],
      "text/plain": [
       "                         Label  Code\n",
       "0         abruptic durixeralfs     0\n",
       "1    abruptic xeric argidurids     1\n",
       "2               aeric alaquods     2\n",
       "3             aeric albaqualfs     3\n",
       "4           aeric calciaquolls     4\n",
       "..                         ...   ...\n",
       "813          xeric palehumults   813\n",
       "814        xeric torrifluvents   814\n",
       "815        xeric torriorthents   815\n",
       "816       xeric torripsamments   816\n",
       "817         xeric vitricryands   817\n",
       "\n",
       "[818 rows x 2 columns]"
      ]
     },
     "execution_count": 9,
     "metadata": {},
     "output_type": "execute_result"
    }
   ],
   "source": [
    "mapping_df"
   ]
  },
  {
   "cell_type": "markdown",
   "id": "b872450b-83d9-4b94-b0cf-988e45ef008a",
   "metadata": {},
   "source": [
    "# Feature Selection"
   ]
  },
  {
   "cell_type": "code",
   "execution_count": null,
   "id": "61bf5e46-8cf0-4fa6-97ca-ae96c86c6051",
   "metadata": {},
   "outputs": [],
   "source": [
    "from sklearn.ensemble import RandomForestClassifier\n",
    "\n",
    "def feature_selection_DEPRECATED(samples, features, target_feature, subsampling, group_feature, weights_feature=None):\n",
    "    # Data preparation\n",
    "    groups = samples[group_feature].unique()\n",
    "    # selected_groups = np.random.choice(groups, int(len(groups) * subsampling), False)\n",
    "    selected_groups = np.array(\n",
    "        samples.groupby(target_feature)[group_feature]\n",
    "            .apply(lambda x: x.sample(frac=subsampling).tolist())\n",
    "            .explode()\n",
    "            .tolist()\n",
    "    )\n",
    "    # Split\n",
    "    samples_train = samples[samples[group_feature].isin(selected_groups)]\n",
    "    # Get features\n",
    "    X_train = samples_train[features].to_numpy()\n",
    "    y_train = samples_train[target_feature].to_numpy()\n",
    "    # Feature Selection\n",
    "    clf = RandomForestClassifier(n_jobs=-1, n_estimators = 50, bootstrap=True)\n",
    "    # Get weights\n",
    "    if weights_feature is not None:\n",
    "        weights_oc = samples_train[weights_feature].to_numpy()\n",
    "        clf.fit(X_train, y_train, weights_oc)\n",
    "    else:\n",
    "        clf.fit(X_train, y_train)\n",
    "    importances = pd.Series(clf.feature_importances_, index=features).sort_values(ascending=True)\n",
    "    # RF & mean decrease in impurity\n",
    "    importances = importances[importances>=importances.mean()]\n",
    "    # return feature names and importance\n",
    "    return (importances.index, np.array(importances.to_list()))\n",
    "\n",
    "\n",
    "def feature_selection(samples, features, target_feature, subsampling, group_feature, weights_feature=None):\n",
    "    # Data preparation\n",
    "    groups = samples[group_feature].unique()\n",
    "    selected_groups = np.array(\n",
    "        samples.groupby(target_feature)[group_feature]\n",
    "            .apply(lambda x: x.sample(frac=subsampling).tolist())\n",
    "            .explode()\n",
    "            .tolist()\n",
    "    )\n",
    "    # Split\n",
    "    samples_train = samples[samples[group_feature].isin(selected_groups)]\n",
    "    print(samples_train.index)\n",
    "    \n",
    "    # Get features\n",
    "    X_train = samples_train[features].to_numpy()\n",
    "    y_train = samples_train[target_feature].to_numpy()\n",
    "    \n",
    "    # Feature Selection\n",
    "    clf = RandomForestClassifier(n_jobs=-1, n_estimators=50, bootstrap=True)\n",
    "    \n",
    "    # Get weights\n",
    "    if weights_feature is not None:\n",
    "        weights_oc = samples_train[weights_feature].to_numpy()\n",
    "        clf.fit(X_train, y_train, sample_weight=weights_oc)\n",
    "    else:\n",
    "        clf.fit(X_train, y_train)\n",
    "    \n",
    "    # Compute feature importances\n",
    "    importances = pd.Series(clf.feature_importances_, index=features).sort_values(ascending=False)\n",
    "    \n",
    "    # Select the top features\n",
    "    top_features = importances.head(100)\n",
    "    \n",
    "    # Return feature names and their importance values\n",
    "    return top_features.index.tolist(), top_features.to_numpy()"
   ]
  },
  {
   "cell_type": "code",
   "execution_count": null,
   "id": "d10c2167-6b04-4d49-8548-9236e2eff756",
   "metadata": {},
   "outputs": [],
   "source": [
    "np.random.seed(42)\n",
    "target_feature = 'taxsubgrp'\n",
    "subsampling = 0.8\n",
    "df_all.loc[:,'blocking_coarse'] = df_all['olc_id'].str[:5].copy()\n",
    "group_feature = 'blocking_coarse'#'blocking'\n",
    "weights_feature = None\n",
    "rounds = 25\n",
    "\n",
    "df_all['codes'] = df_all[target_feature].astype('category').cat.codes\n",
    "target_feature = 'codes'\n",
    "features = df_all.columns[2:-5].tolist()\n",
    "#features = df_all.columns.drop(['olc_id', 'taxsubgrp', 'lon','lat','geometry','overlay_id','blocking','codes','geometry'])\n",
    "runs = [feature_selection(df_all, features, target_feature, subsampling, group_feature, weights_feature) for i in tqdm(range(rounds))]\n",
    "\n",
    "features_freq = feature_list.groupby('freq').count().reset_index().sort_values(by='freq', ascending=False)\n",
    "features_freq['accum'] = features_freq['feature'].cumsum()\n",
    "features_freq"
   ]
  },
  {
   "cell_type": "code",
   "execution_count": 10,
   "id": "6397ff9d-c49e-4184-a49d-6004e4fdf6f8",
   "metadata": {
    "tags": []
   },
   "outputs": [],
   "source": [
    "features_repeated = pd.read_csv('feature_selection_v20250403_clean.csv')\n",
    "features_repeated = features_repeated['feature'].tolist()"
   ]
  },
  {
   "cell_type": "code",
   "execution_count": 11,
   "id": "73f57e0d-f39f-446c-a31b-f8db04d350f0",
   "metadata": {
    "tags": []
   },
   "outputs": [],
   "source": [
    "class_freq = df_all[target_feature].value_counts()\n",
    "class_cat = class_freq[class_freq >= 25].index\n",
    "class_mask = df_all[target_feature].isin(class_cat) \n",
    "df_all_masked = df_all[class_mask].copy()"
   ]
  },
  {
   "cell_type": "code",
   "execution_count": 12,
   "id": "c5aff1dd-0663-4e71-93d8-2d2d6b06a631",
   "metadata": {
    "tags": []
   },
   "outputs": [],
   "source": [
    "random.seed(102)\n",
    "df_all_masked.loc[:,'blocking_coarse'] = df_all_masked['olc_id'].str[:5].copy()\n",
    "class20 = df_all_masked.groupby(target_feature).apply(lambda group: group.sample(int(len(group)*0.2))).reset_index(drop=True)\n",
    "df_class20 = df_all_masked.groupby(target_feature).apply(lambda group: group.sample(int(len(group)*0.2)))\n"
   ]
  },
  {
   "cell_type": "code",
   "execution_count": 13,
   "id": "addf0bce-99f9-45c9-a168-04d343296cba",
   "metadata": {
    "tags": []
   },
   "outputs": [],
   "source": [
    "indices_to_exclude = df_class20.index.get_level_values(1)\n",
    "\n",
    "df_remaining = df_all_masked.loc[~df_all_masked.index.isin(indices_to_exclude), :].copy()\n",
    "\n",
    "# Testing samples\n",
    "total_samples = int(0.05 * len(df_all_masked))\n",
    "\n",
    "# Spatial blocking rule\n",
    "df_remaining.loc[:,'blocking_coarse'] = df_remaining['olc_id'].str[:5].copy()\n",
    "unique_blocks = df_remaining['blocking_coarse'].nunique()\n",
    "\n",
    "# the number of samples per block\n",
    "samples_per_block = 1 #max(1, total_samples // unique_blocks) \n",
    "\n",
    "# Sample the data from each block\n",
    "df_test = df_remaining.groupby('blocking_coarse').apply(lambda x: x.sample(n=min(len(x), 2), random_state=102))\n",
    "\n",
    "df_train = df_remaining.drop(df_test.index.get_level_values(1), axis=0)\n",
    "\n",
    "df_test = df_test.reset_index(drop=True)\n",
    "df_train = df_train.reset_index(drop=True)"
   ]
  },
  {
   "cell_type": "code",
   "execution_count": 14,
   "id": "f686e060-9af2-4fc0-abe7-28ef5991b612",
   "metadata": {
    "tags": []
   },
   "outputs": [
    {
     "name": "stdout",
     "output_type": "stream",
     "text": [
      "Training sample size: 220381 | Testing sample size: 36950 \n"
     ]
    }
   ],
   "source": [
    "X_train = df_train[features_repeated].copy()\n",
    "#y_train = df_train[target_feature].astype('category').cat.codes\n",
    "y_train = df_train['codes']\n",
    "lgb_traing = lgb.Dataset(X_train, label=y_train)\n",
    "\n",
    "X_test = df_test[features_repeated].copy()\n",
    "#y_test = df_test[target_feature].astype('category').cat.codes\n",
    "y_test = df_test['codes']\n",
    "lgb_test = lgb.Dataset(X_test, label=y_test)\n",
    "\n",
    "print(f'Training sample size: {X_train.shape[0]} | Testing sample size: {X_test.shape[0]} ')"
   ]
  },
  {
   "cell_type": "code",
   "execution_count": 15,
   "id": "b4809c78-bf1f-49f9-a25d-9177b15154eb",
   "metadata": {
    "tags": []
   },
   "outputs": [],
   "source": [
    "categories = df_train[target_feature].astype('category').cat.categories\n",
    "codes = df_train[target_feature].astype('category').cat.codes\n",
    "\n",
    "mapping_df_train = pd.DataFrame({\n",
    "    'Label': categories,\n",
    "    'Code': range(len(categories))\n",
    "})\n",
    "categories = df_test[target_feature].astype('category').cat.categories\n",
    "codes = df_test[target_feature].astype('category').cat.codes\n",
    "\n",
    "mapping_df_test = pd.DataFrame({\n",
    "    'Label': categories,\n",
    "    'Code': range(len(categories))\n",
    "})\n",
    "\n",
    "#mapping_df.to_csv('label_code_mapping.txt', index=False, sep='\\t')"
   ]
  },
  {
   "cell_type": "markdown",
   "id": "99eca90d-fa99-4a95-b935-16f83aa28f73",
   "metadata": {},
   "source": [
    "# Train MODELS"
   ]
  },
  {
   "cell_type": "markdown",
   "id": "3608a0bd-9b8d-4218-bc5c-8c4e5076af29",
   "metadata": {},
   "source": [
    "# RandomForest"
   ]
  },
  {
   "cell_type": "code",
   "execution_count": 45,
   "id": "f39b143f-6d48-4f05-8081-5cee22fa1992",
   "metadata": {
    "tags": []
   },
   "outputs": [],
   "source": [
    "import pandas as pd\n",
    "from functools import partial\n",
    "from sklearn.ensemble import RandomForestClassifier\n",
    "from sklearn.model_selection import StratifiedGroupKFold, cross_val_score\n",
    "from sklearn.metrics import log_loss, make_scorer\n",
    "import optuna\n",
    "\n",
    "n_splits = 5\n",
    "\n",
    "class20.reset_index(drop=True, inplace=True)  \n",
    "\n",
    "X_class20 = class20[features_repeated].copy()\n",
    "y_class20 = class20[target_feature].copy()\n",
    "groups_class20 = class20[group_feature]  \n",
    "\n",
    "splitter = StratifiedGroupKFold(n_splits=n_splits)\n",
    "folds = list(splitter.split(X_class20, y_class20, groups=groups_class20))\n",
    "\n",
    "def objective(trial):\n",
    "    params = {\n",
    "        'n_estimators': 50,\n",
    "        'max_depth': trial.suggest_int('max_depth', 3, 15),\n",
    "        'min_samples_split': trial.suggest_int('min_samples_split', 2, 20),\n",
    "        'min_samples_leaf': trial.suggest_int('min_samples_leaf', 1, 10),\n",
    "        'max_features': trial.suggest_float('max_features', 0.5, 1.0),\n",
    "        'bootstrap': True\n",
    "    }\n",
    "    \n",
    "    clf = RandomForestClassifier(**params, random_state=987, n_jobs=96)\n",
    "    \n",
    "    scorer = make_scorer(log_loss, greater_is_better=False, needs_proba=True)\n",
    "\n",
    "    scores = cross_val_score(clf, X_class20, y_class20, cv=folds, scoring=scorer)\n",
    "    \n",
    "    return -np.round(scores.mean(),3)\n",
    "\n",
    "study_name = \"soil_type_RF_v20250402\"\n",
    "storage_name = f\"sqlite:///{study_name}.db\"\n",
    "study = optuna.create_study(direction='minimize', study_name=study_name, storage=storage_name)\n",
    "#study = optuna.load_study(study_name=study_name, storage=storage_name)\n",
    "\n",
    "study.optimize(objective, n_trials=50)  \n",
    "best_trial_rf = study.best_trial\n",
    "\n",
    "print(\"Best Hyperparameters: \", best_trial_rf.params)\n",
    "print(\"Best Log Loss: \", best_trial_rf.value)\n"
   ]
  },
  {
   "cell_type": "markdown",
   "id": "6df0f24a-7cba-4851-8bfe-f4eb41bafb98",
   "metadata": {},
   "source": [
    "# LightGBM"
   ]
  },
  {
   "cell_type": "code",
   "execution_count": null,
   "id": "37153ae6-b53f-4e83-a173-2e8f71db98c6",
   "metadata": {},
   "outputs": [],
   "source": [
    "import pandas as pd\n",
    "import lightgbm as lgb\n",
    "from sklearn.model_selection import StratifiedGroupKFold\n",
    "import optuna\n",
    "\n",
    "n_splits = 5\n",
    "\n",
    "class20.reset_index(drop=True, inplace=True)  \n",
    "\n",
    "X_class20 = class20[features_repeated]\n",
    "y_class20 = class20[target_feature].copy() \n",
    "groups_class20 = class20[group_feature]  \n",
    "\n",
    "splitter = StratifiedGroupKFold(n_splits=n_splits)\n",
    "folds = list(splitter.split(X_class20, y_class20, groups=groups_class20))\n",
    "folds_lightgbm = [(train_idx.tolist(), test_idx.tolist()) for train_idx, test_idx in folds]\n",
    "\n",
    "def objective(trial):\n",
    "    params = {\n",
    "        'objective': 'multiclass',\n",
    "        'metric': 'multi_logloss',\n",
    "        'num_class': df_all[target_feature].nunique(),\n",
    "        'boosting_type': 'gbdt',\n",
    "        'num_leaves': 50,\n",
    "        'max_depth': trial.suggest_int('max_depth', 3, 15),\n",
    "        'learning_rate': trial.suggest_float('learning_rate', 1e-3, 0.1),\n",
    "        'min_data_in_leaf': trial.suggest_int('min_data_in_leaf', 20, 100),\n",
    "        'feature_fraction': trial.suggest_float('feature_fraction', 0.5, 1.0),\n",
    "        'bagging_fraction': trial.suggest_float('bagging_fraction', 0.5, 1.0),\n",
    "        'bagging_freq': trial.suggest_int('bagging_freq', 1, 10),\n",
    "        'lambda_l1': trial.suggest_float('lambda_l1', 0.0, 10.0),\n",
    "        'lambda_l2': trial.suggest_float('lambda_l2', 0.0, 10.0),\n",
    "        'min_gain_to_split': trial.suggest_float('min_gain_to_split', 0.0, 1.0),\n",
    "        'num_boost_round': 10,\n",
    "        'num_threads': 96,\n",
    "        'verbose': -1\n",
    "    }\n",
    "\n",
    "    lgb_data = lgb.Dataset(X_class20, label=y_class20)#, weight=weights_class20)\n",
    "    \n",
    "    cv_results_lgb20 = lgb.cv(\n",
    "        params,\n",
    "        lgb_data,\n",
    "        num_boost_round=10,\n",
    "        folds=folds_lightgbm,\n",
    "        seed=987,\n",
    "        return_cvbooster=False,\n",
    "        callbacks=[lgb.early_stopping(stopping_rounds=10)] \n",
    "    )\n",
    "    \n",
    "    logloss_values = cv_results_lgb20['valid multi_logloss-mean']\n",
    "    \n",
    "    min_logloss = min(logloss_values)\n",
    "    best_iteration_lgb20 = logloss_values.index(min_logloss)\n",
    "\n",
    "    trial.set_user_attr(\"best_iteration\", best_iteration_lgb20)\n",
    "    \n",
    "    return min_logloss\n",
    "\n",
    "study_name = 'LGB_v20250402'\n",
    "storage_name = f\"sqlite:///{study_name}.db\".format(study_name)\n",
    "study = optuna.create_study(direction='minimize', study_name=study_name, storage=storage_name)\n",
    "#study = optuna.load_study(study_name=study_name, storage=storage_name)\n",
    "\n",
    "study.optimize(objective, n_trials=50) \n",
    "best_trial_lgb20 = study.best_trial\n",
    "\n",
    "print(\"Best Hyperparameters: \", best_trial_lgb20.params)\n",
    "print(\"Best Log Loss: \", best_trial_lgb20.value)  # Log loss value\n",
    "print(\"Best Iteration Round: \", best_trial_lgb20.user_attrs[\"best_iteration\"] + 1)  \n"
   ]
  },
  {
   "cell_type": "markdown",
   "id": "850586ec-fcb4-4e9e-b762-a2a8f3fd82df",
   "metadata": {},
   "source": [
    "# Testing set"
   ]
  },
  {
   "cell_type": "code",
   "execution_count": null,
   "id": "42525351-3fac-44ea-9983-47c5e714ca44",
   "metadata": {
    "tags": []
   },
   "outputs": [],
   "source": [
    "y_pred = final_model.predict(X_test, num_iteration=final_model.best_iteration)\n",
    "y_pred_hcl_test = np.argmax(y_pred, axis=1)\n",
    "#y_code_train = df_all[target_feature].astype('category').cat.codes\n",
    "\n",
    "print(classification_report(y_test, y_pred_hcl_test, zero_division=0))"
   ]
  },
  {
   "cell_type": "code",
   "execution_count": null,
   "id": "b64d0f65-e8fa-4554-a62e-13bc68c309cd",
   "metadata": {
    "tags": []
   },
   "outputs": [],
   "source": [
    "X = df_all[features_repeated].copy()\n",
    "y = df_all['codes']\n",
    "#y = df_all[target_feature].astype('category').cat.codes\n",
    "\n",
    "lgb_all = lgb.Dataset(X, label=y)\n",
    "\n",
    "final_model = lgb.train(\n",
    "    best_params,\n",
    "    lgb_all,\n",
    ")"
   ]
  },
  {
   "cell_type": "code",
   "execution_count": 26,
   "id": "ece46746-cf3e-4de6-9682-4b3c2392af3b",
   "metadata": {
    "tags": []
   },
   "outputs": [
    {
     "name": "stdout",
     "output_type": "stream",
     "text": [
      "Feature Importances (%):\n",
      "                                              Feature  Importance (%)\n",
      "58  legendtm_rf_30m_m_s_20000101_20231231_go_epsg....        3.150669\n",
      "10                        CHELSA_bio4_1981-2010_V.2.1        2.996826\n",
      "9                         CHELSA_bio3_1981-2010_V.2.1        2.927759\n",
      "4                        CHELSA_bio15_1981-2010_V.2.1        2.876624\n",
      "47                     CHELSA_tcc_min_1981-2010_V.2.1        2.751428\n",
      "..                                                ...             ...\n",
      "94  tan.curv_edtm_m_120m_s_20000101_20221231_go_ep...        0.073404\n",
      "95  tan.curv_edtm_m_240m_s_20000101_20221231_go_ep...        0.071807\n",
      "96  tan.curv_edtm_m_60m_s_20000101_20221231_go_eps...        0.067914\n",
      "79  pos.openness_edtm_m_240m_s_20000101_20221231_g...        0.065333\n",
      "56  dfme_edtm_m_60m_s_20000101_20221231_go_epsg.43...        0.057420\n",
      "\n",
      "[100 rows x 2 columns]\n"
     ]
    },
    {
     "data": {
      "image/png": "[encoded data removed]",
      "text/plain": [
       "<Figure size 500x1000 with 1 Axes>"
      ]
     },
     "metadata": {},
     "output_type": "display_data"
    }
   ],
   "source": [
    "import pandas as pd\n",
    "import matplotlib.pyplot as plt\n",
    "import seaborn as sns\n",
    "\n",
    "# Get feature importances\n",
    "feature_importances = final_model.feature_importance(importance_type='gain')\n",
    "\n",
    "# Normalize to percentages\n",
    "importance_percentages = 100 * feature_importances / feature_importances.sum()\n",
    "\n",
    "# Create a Pandas Series for better visualization\n",
    "lgb_importances = pd.Series(importance_percentages, index=features_repeated).sort_values(ascending=False)\n",
    "\n",
    "# Create a DataFrame for better visualization\n",
    "importance_df = pd.DataFrame({\n",
    "    'Feature': final_model.feature_name(),\n",
    "    'Importance (%)': importance_percentages\n",
    "}).sort_values(by='Importance (%)', ascending=False)\n",
    "\n",
    "# Display the feature importances as percentages\n",
    "print(\"Feature Importances (%):\")\n",
    "print(importance_df)\n",
    "\n",
    "# Plot feature importances as percentages\n",
    "fig, ax = plt.subplots(figsize=(5, 10))\n",
    "bar = sns.barplot(\n",
    "    y=lgb_importances.index[:30],\n",
    "    x=lgb_importances.values[:30],\n",
    "    orient=\"h\",\n",
    "    palette='YlOrRd_r',\n",
    "    ax=ax\n",
    ")\n",
    "ax.set_yticklabels(lgb_importances.index[:30], fontsize=8)\n",
    "bar.bar_label(bar.containers[0], label_type='edge', rotation=0, color='black', padding=1, fmt='%.2f%%', fontsize=8)\n",
    "\n",
    "plt.xlabel('Importance (%)')\n",
    "plt.title('Feature Importance (Percentage)')\n",
    "#fig.savefig('LGB_FeatureImportance_BestModel_Percentage.png', dpi=300, bbox_inches='tight')\n",
    "plt.show()"
   ]
  },
  {
   "cell_type": "code",
   "execution_count": null,
   "id": "9df097c4-0bc9-4502-be78-385c40d01f68",
   "metadata": {
    "tags": []
   },
   "outputs": [],
   "source": [
    "y_pred_train = final_model.predict(X_train, num_iteration=final_model.best_iteration)\n",
    "y_pred_hcl_train = np.argmax(y_pred_train, axis=1)\n",
    "y_code_train = df_train[target_feature].astype('category').cat.codes\n",
    "\n",
    "print(classification_report(y_code_train, y_pred_hcl_train, zero_division=0))"
   ]
  },
  {
   "cell_type": "code",
   "execution_count": null,
   "id": "0fd2c185-c77a-45a9-9c2c-f7d8122dd2df",
   "metadata": {
    "tags": []
   },
   "outputs": [],
   "source": [
    "y_pred_test = final_model.predict(X_test, num_iteration=final_model.best_iteration)\n",
    "y_pred_hcl_test = np.argmax(y_pred_test, axis=1)\n",
    "y_code_test = df_test[target_feature].astype('category').cat.codes\n",
    "\n",
    "print(classification_report(y_code_test, y_pred_hcl_test, zero_division=0))"
   ]
  }
 ],
 "metadata": {
  "kernelspec": {
   "display_name": "Python 3 (ipykernel)",
   "language": "python",
   "name": "python3"
  },
  "language_info": {
   "codemirror_mode": {
    "name": "ipython",
    "version": 3
   },
   "file_extension": ".py",
   "mimetype": "text/x-python",
   "name": "python",
   "nbconvert_exporter": "python",
   "pygments_lexer": "ipython3",
   "version": "3.8.16"
  }
 },
 "nbformat": 4,
 "nbformat_minor": 5
}
